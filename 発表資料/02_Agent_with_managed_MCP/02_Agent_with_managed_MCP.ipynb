{
 "cells": [
  {
   "cell_type": "markdown",
   "metadata": {
    "application/vnd.databricks.v1+cell": {
     "cellMetadata": {},
     "inputWidgets": {},
     "nuid": "1c2b08d4-5ed4-4f76-87b6-e8baa140774c",
     "showTitle": false,
     "tableResultSettingsMap": {},
     "title": ""
    }
   },
   "source": [
    "# 2. Databricks Managed MCP Server を用いたエージェント実装（ベータ機能）\n",
    "\n",
    "## 概要\n",
    "- **MCP (Model Context Protocol)**: AIモデルが外部ツールと通信するための標準プロトコル\n",
    "- **Databricks Managed MCP Server**: Databricksが提供するマネージドなMCPサーバー\n",
    "- **期待される利点**:\n",
    "  - 標準化されたツールアクセス\n",
    "  - セキュアな認証・権限管理\n",
    "  - 複数サービスへの統一的なアクセス"
   ]
  },
  {
   "cell_type": "code",
   "execution_count": 0,
   "metadata": {
    "application/vnd.databricks.v1+cell": {
     "cellMetadata": {
      "byteLimit": 2048000,
      "rowLimit": 10000
     },
     "inputWidgets": {},
     "nuid": "ffe25512-cfb1-454d-b7e2-4b7ee0623354",
     "showTitle": false,
     "tableResultSettingsMap": {},
     "title": ""
    }
   },
   "outputs": [],
   "source": [
    "%pip install -U -qqqq mcp>=1.9 databricks-sdk[openai] databricks-agents>=1.0.0 databricks-mcp databricks-langchain uv langgraph==0.3.4\n",
    "%restart_python"
   ]
  },
  {
   "cell_type": "code",
   "execution_count": 0,
   "metadata": {
    "application/vnd.databricks.v1+cell": {
     "cellMetadata": {
      "byteLimit": 2048000,
      "rowLimit": 10000
     },
     "inputWidgets": {},
     "nuid": "5bf8f75f-47dc-49bd-95c1-0f1b7fb609a3",
     "showTitle": false,
     "tableResultSettingsMap": {},
     "title": ""
    }
   },
   "outputs": [],
   "source": [
    "import asyncio\n",
    "from databricks.sdk import WorkspaceClient\n",
    "from databricks_mcp import DatabricksMCPClient\n",
    "import nest_asyncio\n",
    "nest_asyncio.apply()\n",
    "\n",
    "workspace_client = WorkspaceClient()\n",
    "host = workspace_client.config.host\n",
    "genie_space_id = '***'\n",
    "MANAGED_MCP_SERVER_URLS = [\n",
    "    f\"{host}/api/2.0/mcp/genie/{genie_space_id}\",\n",
    "]\n",
    "\n",
    "async def get_tools():\n",
    "  results = []\n",
    "  for server_url in MANAGED_MCP_SERVER_URLS:\n",
    "    mcp_client = DatabricksMCPClient(server_url=server_url, workspace_client=workspace_client)\n",
    "    tools = await mcp_client.list_tools()\n",
    "    results.append(tools)\n",
    "  return results\n",
    "\n",
    "mcp_tools = asyncio.run(get_tools())\n",
    "\n",
    "print(mcp_tools)"
   ]
  },
  {
   "cell_type": "markdown",
   "metadata": {
    "application/vnd.databricks.v1+cell": {
     "cellMetadata": {},
     "inputWidgets": {},
     "nuid": "ce8bb764-af29-4484-9d89-3a0980b70754",
     "showTitle": false,
     "tableResultSettingsMap": {},
     "title": ""
    }
   },
   "source": [
    "## まとめ\n",
    "\n",
    "### 結果\n",
    "Databricks Free Edition（us-east-2）では **Databricks Managed MCP Servers は利用できません**でした。><\n",
    "\n",
    "エラーメッセージ：\n",
    "```\n",
    "NOT_FOUND: Databricks managed MCP servers are not enabled. Please enroll in the beta for this feature.\n",
    "```\n",
    "\n",
    "### Managed MCPの期待される利点（ベータ版参加時）\n",
    "- **標準化されたツールアクセス** - MCPプロトコルによる統一的なインターフェース\n",
    "- **セキュアな認証・権限管理** - Databricksのセキュリティ機能を活用\n",
    "- **複数サービスへの統一的なアクセス** - 様々なツールを同じ方法で利用可能\n",
    "\n",
    "### 代替案\n",
    "- Unity Catalog Function を使用したカスタムツール実装（ノートブック1）\n",
    "- GenieAgent を使用したマルチエージェント実装（ノートブック3）"
   ]
  }
 ],
 "metadata": {
  "application/vnd.databricks.v1+notebook": {
   "computePreferences": null,
   "dashboards": [],
   "environmentMetadata": null,
   "inputWidgetPreferences": null,
   "language": "python",
   "notebookMetadata": {
    "pythonIndentUnit": 4
   },
   "notebookName": "02_Agent_with_managed_MCP",
   "widgets": {}
  },
  "kernelspec": {
   "display_name": "Python 3",
   "language": "python",
   "name": "python3"
  },
  "language_info": {
   "name": "python"
  }
 },
 "nbformat": 4,
 "nbformat_minor": 0
}
