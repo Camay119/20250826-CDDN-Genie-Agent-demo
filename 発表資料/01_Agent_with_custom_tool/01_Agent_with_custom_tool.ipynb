{
 "cells": [
  {
   "cell_type": "markdown",
   "metadata": {
    "application/vnd.databricks.v1+cell": {
     "cellMetadata": {},
     "inputWidgets": {},
     "nuid": "7cd3c9e4-68d4-4b1f-bbac-028af999b71f",
     "showTitle": false,
     "tableResultSettingsMap": {},
     "title": ""
    }
   },
   "source": [
    "# 1. Unity Catalog Function を用いたツール呼び出しエージェントシステム\n",
    "\n",
    "## 概要\n",
    "- **Databricks SDK** を使用して Genie Conversation API を呼び出す関数を定義\n",
    "- **Unity Catalog** に Function として登録\n",
    "- その関数を **ツールノード** として定義する\n",
    "- **完全な制御とカスタマイズ性**"
   ]
  },
  {
   "cell_type": "code",
   "execution_count": 0,
   "metadata": {
    "application/vnd.databricks.v1+cell": {
     "cellMetadata": {
      "byteLimit": 2048000,
      "rowLimit": 10000
     },
     "inputWidgets": {},
     "nuid": "8d92dbc5-05d0-45a3-9f5a-bfcf2c37c5d4",
     "showTitle": false,
     "tableResultSettingsMap": {},
     "title": ""
    }
   },
   "outputs": [],
   "source": [
    "# Install Unity Catalog AI integration packages with the Databricks extra\n",
    "%pip install -U -qqq unitycatalog-ai[databricks] unitycatalog-langchain[databricks] databricks-langchain mlflow-skinny[databricks] langgraph==0.3.4 databricks-agents uv\n",
    "%pip uninstall -y databricks-connect pyspark\n",
    "%pip install databricks-connect\n",
    "\n",
    "dbutils.library.restartPython()"
   ]
  },
  {
   "cell_type": "markdown",
   "metadata": {
    "application/vnd.databricks.v1+cell": {
     "cellMetadata": {
      "byteLimit": 2048000,
      "rowLimit": 10000
     },
     "inputWidgets": {},
     "nuid": "0a78c7a7-f873-4cf1-981d-e6b81426ea9a",
     "showTitle": false,
     "tableResultSettingsMap": {},
     "title": ""
    }
   },
   "source": [
    "## Genie API を叩く関数を作る"
   ]
  },
  {
   "cell_type": "code",
   "execution_count": 0,
   "metadata": {
    "application/vnd.databricks.v1+cell": {
     "cellMetadata": {
      "byteLimit": 2048000,
      "rowLimit": 10000
     },
     "inputWidgets": {},
     "nuid": "1b5bdc8e-5e2a-492e-9e91-5b3abc970293",
     "showTitle": false,
     "tableResultSettingsMap": {},
     "title": ""
    }
   },
   "outputs": [],
   "source": [
    "def ask_bakehouse_genie(question: str, token: str) -> str:\n",
    "    \"\"\"\n",
    "    DatabricksのText-to-SQL ツールであるGenieを呼び出し、質問文字列に対する最終回答テキストを返す。\n",
    "    この Genie Space にはベーカリーフランチャイズビジネスのシミュレーションデータが含まれており、\n",
    "    販売トランザクション、顧客情報、フランチャイズ情報、サプライヤー情報、メディアレビューなどが含まれています。\n",
    "\n",
    "    Args:\n",
    "        question: ユーザーの質問（日本語可）\n",
    "        token: Databricks の Personal Access Token\n",
    "    Returns:\n",
    "        最終回答のテキスト\n",
    "    \"\"\"\n",
    "    from databricks.sdk import WorkspaceClient\n",
    "    import pandas as pd\n",
    "    GENIE_SPACE_ID = \"***\"\n",
    "    w = WorkspaceClient(\n",
    "        host=\"***\",\n",
    "        token=token\n",
    "    )\n",
    "\n",
    "    # 会話を開始（完了まで待機）\n",
    "    msg = w.genie.start_conversation_and_wait(\n",
    "        space_id=GENIE_SPACE_ID,\n",
    "        content=question,\n",
    "    )\n",
    "\n",
    "    # 添付から query 結果を探す\n",
    "    for att in getattr(msg, \"attachments\", []) or []:\n",
    "        att_id = getattr(att, \"attachment_id\", None)\n",
    "        if not att_id:\n",
    "            continue\n",
    "\n",
    "        qres = w.genie.get_message_attachment_query_result(\n",
    "            space_id=msg.space_id,\n",
    "            conversation_id=msg.conversation_id,\n",
    "            message_id=msg.message_id,\n",
    "            attachment_id=att_id,\n",
    "        )\n",
    "\n",
    "        stmt = qres.as_dict().get(\"statement_response\") or {}\n",
    "        result = stmt.get(\"result\") or {}\n",
    "        manifest = stmt.get(\"manifest\") or {}\n",
    "        columns = (manifest.get(\"schema\") or {}).get(\"columns\") or []\n",
    "        data = result.get(\"data_array\") or []\n",
    "\n",
    "        if not columns or not data:\n",
    "            return None\n",
    "\n",
    "        header = [str(c[\"name\"]) for c in columns]\n",
    "        df = pd.DataFrame(data, columns=header)\n",
    "\n",
    "        # 表を文字列に整形\n",
    "        return df.to_json()\n",
    "\n",
    "    return None"
   ]
  },
  {
   "cell_type": "code",
   "execution_count": 0,
   "metadata": {
    "application/vnd.databricks.v1+cell": {
     "cellMetadata": {
      "byteLimit": 2048000,
      "rowLimit": 10000
     },
     "inputWidgets": {},
     "nuid": "7234058c-02a6-429d-91bc-c049148fe121",
     "showTitle": false,
     "tableResultSettingsMap": {},
     "title": ""
    }
   },
   "outputs": [],
   "source": [
    "token = dbutils.secrets.get(\n",
    "    scope=\"20250826_CDDN\", key=\"tkamei_PAT\"\n",
    ")\n",
    "ask_bakehouse_genie(\"売上トップ3のフランチャイズ店舗はどこですか？\", token)"
   ]
  },
  {
   "cell_type": "code",
   "execution_count": 0,
   "metadata": {
    "application/vnd.databricks.v1+cell": {
     "cellMetadata": {
      "byteLimit": 2048000,
      "rowLimit": 10000
     },
     "inputWidgets": {},
     "nuid": "e09b59dc-a1a3-41ad-92d0-54366faddacd",
     "showTitle": false,
     "tableResultSettingsMap": {},
     "title": ""
    }
   },
   "outputs": [],
   "source": [
    "\n",
    "def ask_weather_genie(question: str, token: str) -> str:\n",
    "    \"\"\"\n",
    "    DatabricksのText-to-SQL ツールであるGenieを呼び出し、質問文字列に対する最終回答テキストを返す。\n",
    "    このGenie SpaceにはAccuWeatherの気象データを含む2つのテーブルが含まれています。\n",
    "    各テーブルは、トップ50のグローバル都市の1ヶ月分の予測および歴史的気象データを提供します。\n",
    "    データは、温度、湿度、降水量、風速などの気象パラメータを含み、メートル法単位で表されています。\n",
    "\n",
    "    Args:\n",
    "        question: ユーザーの質問（日本語可）\n",
    "        token: Databricks の Personal Access Token\n",
    "    Returns:\n",
    "        最終回答のテキスト\n",
    "    \"\"\"\n",
    "    from databricks.sdk import WorkspaceClient\n",
    "    import pandas as pd\n",
    "    GENIE_SPACE_ID = \"***\"\n",
    "    w = WorkspaceClient(\n",
    "        host=\"***\",\n",
    "        token=token\n",
    "    )\n",
    "\n",
    "    # 会話を開始（完了まで待機）\n",
    "    msg = w.genie.start_conversation_and_wait(\n",
    "        space_id=GENIE_SPACE_ID,\n",
    "        content=question,\n",
    "    )\n",
    "\n",
    "    # 添付から query 結果を探す\n",
    "    for att in getattr(msg, \"attachments\", []) or []:\n",
    "        att_id = getattr(att, \"attachment_id\", None)\n",
    "        if not att_id:\n",
    "            continue\n",
    "\n",
    "        qres = w.genie.get_message_attachment_query_result(\n",
    "            space_id=msg.space_id,\n",
    "            conversation_id=msg.conversation_id,\n",
    "            message_id=msg.message_id,\n",
    "            attachment_id=att_id,\n",
    "        )\n",
    "\n",
    "        stmt = qres.as_dict().get(\"statement_response\") or {}\n",
    "        result = stmt.get(\"result\") or {}\n",
    "        manifest = stmt.get(\"manifest\") or {}\n",
    "        columns = (manifest.get(\"schema\") or {}).get(\"columns\") or []\n",
    "        data = result.get(\"data_array\") or []\n",
    "\n",
    "        if not columns or not data:\n",
    "            return None\n",
    "\n",
    "        header = [str(c[\"name\"]) for c in columns]\n",
    "        df = pd.DataFrame(data, columns=header)\n",
    "\n",
    "        # 表を文字列に整形（pandas に任せる）\n",
    "        return df.to_json()\n",
    "\n",
    "    return None"
   ]
  },
  {
   "cell_type": "code",
   "execution_count": 0,
   "metadata": {
    "application/vnd.databricks.v1+cell": {
     "cellMetadata": {
      "byteLimit": 2048000,
      "rowLimit": 10000
     },
     "inputWidgets": {},
     "nuid": "22b2d066-50ea-402d-a7ac-920d46457d98",
     "showTitle": false,
     "tableResultSettingsMap": {},
     "title": ""
    }
   },
   "outputs": [],
   "source": [
    "token = dbutils.secrets.get(\n",
    "    scope=\"20250826_CDDN\", key=\"tkamei_PAT\"\n",
    ")\n",
    "ask_weather_genie(\"東京の2024年7月の平均気温は何度ですか？\", token)"
   ]
  },
  {
   "cell_type": "markdown",
   "metadata": {
    "application/vnd.databricks.v1+cell": {
     "cellMetadata": {
      "byteLimit": 2048000,
      "rowLimit": 10000
     },
     "inputWidgets": {},
     "nuid": "bb199c49-8067-415f-a359-cc622c5cf5b2",
     "showTitle": false,
     "tableResultSettingsMap": {},
     "title": ""
    }
   },
   "source": [
    "## Genie API を叩く関数を Unity Catalog に登録する"
   ]
  },
  {
   "cell_type": "code",
   "execution_count": 0,
   "metadata": {
    "application/vnd.databricks.v1+cell": {
     "cellMetadata": {
      "byteLimit": 2048000,
      "rowLimit": 10000
     },
     "inputWidgets": {},
     "nuid": "9566558b-9afe-4863-84d6-7248284b257b",
     "showTitle": false,
     "tableResultSettingsMap": {},
     "title": ""
    }
   },
   "outputs": [],
   "source": [
    "from unitycatalog.ai.core.databricks import DatabricksFunctionClient\n",
    "\n",
    "client = DatabricksFunctionClient()"
   ]
  },
  {
   "cell_type": "markdown",
   "metadata": {
    "application/vnd.databricks.v1+cell": {
     "cellMetadata": {},
     "inputWidgets": {},
     "nuid": "75b96188-adec-4aaa-9405-13a6b61920a2",
     "showTitle": false,
     "tableResultSettingsMap": {},
     "title": ""
    }
   },
   "source": [
    "bakehouse genie の登録"
   ]
  },
  {
   "cell_type": "code",
   "execution_count": 0,
   "metadata": {
    "application/vnd.databricks.v1+cell": {
     "cellMetadata": {
      "byteLimit": 2048000,
      "rowLimit": 10000
     },
     "inputWidgets": {},
     "nuid": "81d6f567-c71b-4835-83d1-e446d74f537b",
     "showTitle": false,
     "tableResultSettingsMap": {},
     "title": ""
    }
   },
   "outputs": [],
   "source": [
    "CATALOG = \"20250826_cddn\"\n",
    "SCHEMA = \"agent_with_custom_tool\"\n",
    "\n",
    "function_info = client.create_python_function(\n",
    "  func=ask_bakehouse_genie,\n",
    "  catalog=CATALOG,\n",
    "  schema=SCHEMA,\n",
    "  replace=True,\n",
    "  dependencies=[\n",
    "    \"databricks-sdk>=0.30.0\",\"pandas\"\n",
    "  ]\n",
    ")"
   ]
  },
  {
   "cell_type": "code",
   "execution_count": 0,
   "metadata": {
    "application/vnd.databricks.v1+cell": {
     "cellMetadata": {
      "byteLimit": 2048000,
      "rowLimit": 10000
     },
     "inputWidgets": {},
     "nuid": "ea79a1f9-92cd-4898-a663-7ab9c492b73a",
     "showTitle": false,
     "tableResultSettingsMap": {},
     "title": ""
    }
   },
   "outputs": [],
   "source": [
    "# token を secret から取得して渡すラッパー関数\n",
    "raw_func = f\"{CATALOG}.{SCHEMA}.ask_bakehouse_genie\"\n",
    "tool_func = f\"{CATALOG}.{SCHEMA}.ask_bakehouse_genie_tool\"\n",
    "\n",
    "sql_body = f\"\"\"\n",
    "CREATE OR REPLACE FUNCTION {tool_func}(\n",
    "  question STRING COMMENT '質問（日本語可）'\n",
    ")\n",
    "RETURNS STRING\n",
    "LANGUAGE SQL\n",
    "COMMENT 'DatabricksのText-to-SQL ツールであるGenieを呼び出し、質問文字列に対する最終回答テキストを返す。この Genie Space にはベーカリーフランチャイズビジネスのシミュレーションデータが含まれており、販売トランザクション、顧客情報、フランチャイズ情報、サプライヤー情報、メディアレビューなどが含まれています。'\n",
    "RETURN {raw_func}(question, secret('20250826_CDDN', 'tkamei_PAT'));\n",
    "\"\"\"\n",
    "client.create_function(sql_function_body=sql_body)"
   ]
  },
  {
   "cell_type": "code",
   "execution_count": 0,
   "metadata": {
    "application/vnd.databricks.v1+cell": {
     "cellMetadata": {
      "byteLimit": 2048000,
      "rowLimit": 10000
     },
     "inputWidgets": {},
     "nuid": "2f99c5e7-21d1-495a-87bb-a98caaefd27d",
     "showTitle": false,
     "tableResultSettingsMap": {},
     "title": ""
    }
   },
   "outputs": [],
   "source": [
    "result = client.execute_function(\n",
    "  function_name=f\"{CATALOG}.{SCHEMA}.ask_bakehouse_genie_tool\",\n",
    "  parameters={\"question\": \"売上トップ3のフランチャイズ店舗はどこですか？\"}\n",
    ")\n",
    "\n",
    "result.value "
   ]
  },
  {
   "cell_type": "markdown",
   "metadata": {
    "application/vnd.databricks.v1+cell": {
     "cellMetadata": {},
     "inputWidgets": {},
     "nuid": "97b649e9-9ceb-4a58-b8ce-37aa7598de69",
     "showTitle": false,
     "tableResultSettingsMap": {},
     "title": ""
    }
   },
   "source": [
    "weather genie の登録"
   ]
  },
  {
   "cell_type": "code",
   "execution_count": 0,
   "metadata": {
    "application/vnd.databricks.v1+cell": {
     "cellMetadata": {
      "byteLimit": 2048000,
      "rowLimit": 10000
     },
     "inputWidgets": {},
     "nuid": "8b30191b-4fc7-4870-98f4-220e608d84c7",
     "showTitle": false,
     "tableResultSettingsMap": {},
     "title": ""
    }
   },
   "outputs": [],
   "source": [
    "CATALOG = \"20250826_cddn\"\n",
    "SCHEMA = \"agent_with_custom_tool\"\n",
    "\n",
    "function_info = client.create_python_function(\n",
    "  func=ask_weather_genie,\n",
    "  catalog=CATALOG,\n",
    "  schema=SCHEMA,\n",
    "  replace=True,\n",
    "  dependencies=[\n",
    "    \"databricks-sdk>=0.30.0\",\"pandas\"\n",
    "  ]\n",
    ")"
   ]
  },
  {
   "cell_type": "code",
   "execution_count": 0,
   "metadata": {
    "application/vnd.databricks.v1+cell": {
     "cellMetadata": {
      "byteLimit": 2048000,
      "rowLimit": 10000
     },
     "inputWidgets": {},
     "nuid": "21401e82-93ba-417e-b7c5-b6b28fa76c73",
     "showTitle": false,
     "tableResultSettingsMap": {},
     "title": ""
    }
   },
   "outputs": [],
   "source": [
    "# token を secret から取得して渡すラッパー関数\n",
    "raw_func = f\"{CATALOG}.{SCHEMA}.ask_weather_genie\"\n",
    "tool_func = f\"{CATALOG}.{SCHEMA}.ask_weather_genie_tool\"\n",
    "\n",
    "sql_body = f\"\"\"\n",
    "CREATE OR REPLACE FUNCTION {tool_func}(\n",
    "  question STRING COMMENT '質問（日本語可）'\n",
    ")\n",
    "RETURNS STRING\n",
    "LANGUAGE SQL\n",
    "COMMENT 'DatabricksのText-to-SQL ツールであるGenieを呼び出し、質問文字列に対する最終回答テキストを返す。このGenie SpaceにはAccuWeatherの気象データを含む2つのテーブルが含まれています。各テーブルは、トップ50のグローバル都市の1ヶ月分の予測および歴史的気象データを提供します。データは、温度、湿度、降水量、風速などの気象パラメータを含み、メートル法単位で表されています。'\n",
    "RETURN {raw_func}(question, secret('20250826_CDDN', 'tkamei_PAT'));\n",
    "\"\"\"\n",
    "function_info = client.create_function(sql_function_body=sql_body)"
   ]
  },
  {
   "cell_type": "code",
   "execution_count": 0,
   "metadata": {
    "application/vnd.databricks.v1+cell": {
     "cellMetadata": {
      "byteLimit": 2048000,
      "rowLimit": 10000
     },
     "inputWidgets": {},
     "nuid": "1cdce243-a62e-458a-9c61-7219847f07a9",
     "showTitle": false,
     "tableResultSettingsMap": {},
     "title": ""
    }
   },
   "outputs": [],
   "source": [
    "result = client.execute_function(\n",
    "  function_name=f\"{CATALOG}.{SCHEMA}.ask_weather_genie_tool\",\n",
    "  parameters={\"question\": \"東京の2024年7月の平均気温は何度ですか？\"}\n",
    ")\n",
    "\n",
    "result.value "
   ]
  },
  {
   "cell_type": "markdown",
   "metadata": {
    "application/vnd.databricks.v1+cell": {
     "cellMetadata": {},
     "inputWidgets": {},
     "nuid": "1c237e6d-f2a1-4bbf-bf97-bf66ee031bc0",
     "showTitle": false,
     "tableResultSettingsMap": {},
     "title": ""
    }
   },
   "source": [
    "## Agent.py の作成（Models From Code）\n",
    "\n",
    "%%writefile を使用してagent.pyファイルを作成します。これはMLflow Models From Codeで使用されます。"
   ]
  },
  {
   "cell_type": "code",
   "execution_count": 0,
   "metadata": {
    "application/vnd.databricks.v1+cell": {
     "cellMetadata": {
      "byteLimit": 2048000,
      "rowLimit": 10000
     },
     "inputWidgets": {},
     "nuid": "53de3ecc-5036-45a3-b49c-2fa6169a7b5f",
     "showTitle": false,
     "tableResultSettingsMap": {},
     "title": ""
    }
   },
   "outputs": [],
   "source": [
    "%%writefile agent.py\n",
    "from typing import TypedDict, Annotated, Sequence, Optional, Any, List, Generator\n",
    "from langgraph.graph import StateGraph, END\n",
    "from langgraph.prebuilt import ToolNode, tools_condition\n",
    "from langgraph.graph.message import add_messages\n",
    "\n",
    "from langchain_core.messages import HumanMessage, AIMessage, BaseMessage, convert_to_openai_messages\n",
    "from langchain_core.runnables import RunnableLambda\n",
    "from databricks_langchain import ChatDatabricks, UCFunctionToolkit\n",
    "import mlflow\n",
    "from mlflow.pyfunc import ChatAgent\n",
    "from mlflow.langchain.chat_agent_langgraph import ChatAgentState\n",
    "from mlflow.types.agent import (\n",
    "    ChatAgentChunk,\n",
    "    ChatAgentMessage,\n",
    "    ChatAgentResponse,\n",
    "    ChatContext,\n",
    ")\n",
    "\n",
    "#######################################\n",
    "# ツールコールエージェントグラフの定義\n",
    "#######################################\n",
    "CATALOG = \"20250826_cddn\"\n",
    "SCHEMA = \"agent_with_custom_tool\"\n",
    "bakehouse_genie_func_name = f\"{CATALOG}.{SCHEMA}.ask_bakehouse_genie_tool\"\n",
    "weather_genie_func_name = f\"{CATALOG}.{SCHEMA}.ask_weather_genie_tool\"\n",
    "\n",
    "toolkit = UCFunctionToolkit(function_names=[bakehouse_genie_func_name, weather_genie_func_name])\n",
    "tools = toolkit.tools\n",
    "\n",
    "LLM_ENDPOINT_NAME = \"databricks-meta-llama-3-3-70b-instruct\"\n",
    "llm = ChatDatabricks(endpoint=LLM_ENDPOINT_NAME).bind_tools(tools)\n",
    "\n",
    "system_prompt = \"\"\"You are a tool-routing assistant. Reply in the user’s language (default: Japanese).\n",
    "\n",
    "# 重要方針\n",
    "- ツール（UC Function）を使うと決めたら、ユーザーの直近メッセージを **一字一句そのまま** `question` 引数に渡すこと。\n",
    "  - **改変禁止**：翻訳・要約・言い換え・付け足し（例:「ください」「最終回答のみで」など）・メタ注釈・前置き・後置き・句読点や空白の正規化・大文字小文字/全角半角の変更・改行の除去/追加・引用符/コードブロックの付与・不要なトリミングは一切しない。\n",
    "  - 連続メッセージがある場合は「直近のユーザーメッセージ」だけを渡す（ユーザーが「前の質問も含めて」と明示した場合のみ、指示どおりの順序で **原文ママ連結** する）。\n",
    "- トークンやシークレットには触れない。`ask_bakehouse_genie_tool(question: STRING)` と `ask_weather_genie_tool(question: STRING)` は内部で Secret を注入するため、追加引数は渡さない。\n",
    "- 非同期実行はしない。待機指示・時間見積もりはしない。\n",
    "\n",
    "# ルーティング規則\n",
    "- ベーカリーの販売・顧客・フランチャイズ・サプライヤー・メディアレビュー等に関するデータ質問 → `ask_bakehouse_genie_tool`\n",
    "- 天気・気象に関するデータ質問（都市/日付/気温/降水量など） → `ask_weather_genie_tool`\n",
    "- 上記以外の一般的な会話やツール不要の雑談 → ツール呼び出しを行わず、通常応答。\n",
    "- どちらか迷った場合は **質問文を改変せず**、より関連が強い方のツールを1つだけ呼び出す。\n",
    "\n",
    "# 出力ポリシー\n",
    "- ツールが返す文字列（JSON を想定）を解析し、表形式が適切なら見やすいテーブルに整形して提示する。\n",
    "  - レコードが多い場合は上位のみを表示し、件数と省略を明記。\n",
    "  - 数値・単位はそのまま保持し、勝手な丸めや再解釈をしない。\n",
    "- ツールが空・不正・エラーっぽい場合は、「元の質問はそのまま送ったが結果が取得できなかった」旨を簡潔に伝え、**質問文の改変を提案しない**まま、ユーザーに追加の条件（期間/対象/粒度など）を任意で示せる選択肢を短く提示する。\n",
    "- 思考過程は開示しない。確信のない推測や補完をしない。データの範囲・限界は簡潔に示す。\n",
    "\n",
    "# ツール仕様（参照用）\n",
    "- `ask_bakehouse_genie_tool(question: STRING) -> STRING`\n",
    "- `ask_weather_genie_tool(question: STRING) -> STRING`\n",
    "（どちらも `question` のみをそのまま渡す。余計な文字は絶対に付けない。）\n",
    "\"\"\"\n",
    "\n",
    "class AgentState(ChatAgentState):\n",
    "    \"\"\"拡張されたエージェント状態\"\"\"\n",
    "    messages: Annotated[Sequence[BaseMessage], add_messages]\n",
    "\n",
    "def call_model(state: AgentState):\n",
    "    preprocessor = RunnableLambda(\n",
    "        lambda s: [{\"role\": \"system\", \"content\": system_prompt}] + list(s[\"messages\"])\n",
    "    )\n",
    "    model_runnable = preprocessor | llm\n",
    "    ai_msg = model_runnable.invoke(state)\n",
    "    return {\"messages\": [ai_msg]}\n",
    "\n",
    "tool_node = ToolNode(tools)\n",
    "\n",
    "graph = StateGraph(AgentState)\n",
    "graph.add_node(\"agent\", RunnableLambda(call_model))\n",
    "graph.add_node(\"tools\", tool_node)\n",
    "\n",
    "graph.set_entry_point(\"agent\")\n",
    "graph.add_conditional_edges(\"agent\", tools_condition, {\"tools\": \"tools\", END: END})\n",
    "graph.add_edge(\"tools\", \"agent\")\n",
    "\n",
    "toolcall_agent = graph.compile()\n",
    "\n",
    "class LangGraphChatAgent(ChatAgent):\n",
    "    def __init__(self, agent):\n",
    "        self.agent = agent\n",
    "\n",
    "    def predict(\n",
    "        self,\n",
    "        messages: list[ChatAgentMessage],\n",
    "        context: Optional[ChatContext] = None,\n",
    "        custom_inputs: Optional[dict[str, Any]] = None,\n",
    "    ) -> ChatAgentResponse:\n",
    "        request = {\n",
    "            \"messages\": [m.model_dump_compat(exclude_none=True) for m in messages]\n",
    "        }\n",
    "\n",
    "        config: dict[str, Any] = {}\n",
    "        if custom_inputs:\n",
    "            config.setdefault(\"configurable\", {}).update(custom_inputs)\n",
    "\n",
    "        out_messages: list[ChatAgentMessage] = []\n",
    "        for event in self.agent.stream(request, stream_mode=\"updates\", config=config):\n",
    "            for node_data in event.values():\n",
    "                out_messages.extend(\n",
    "                    ChatAgentMessage(**convert_to_openai_messages(msg), id=msg.id) for msg in node_data.get(\"messages\", [])\n",
    "                )\n",
    "        return ChatAgentResponse(messages=out_messages)\n",
    "\n",
    "    def predict_stream(\n",
    "        self,\n",
    "        messages: list[ChatAgentMessage],\n",
    "        context: Optional[ChatContext] = None,\n",
    "        custom_inputs: Optional[dict[str, Any]] = None,\n",
    "    ) -> Generator[ChatAgentChunk, None, None]:\n",
    "        request = {\n",
    "            \"messages\": [m.model_dump_compat(exclude_none=True) for m in messages]\n",
    "        }\n",
    "\n",
    "        config: dict[str, Any] = {}\n",
    "        if custom_inputs:\n",
    "            config.setdefault(\"configurable\", {}).update(custom_inputs)\n",
    "\n",
    "        for event in self.agent.stream(request, stream_mode=\"updates\", config=config):\n",
    "            for node_data in event.values():\n",
    "                yield from (\n",
    "                    ChatAgentChunk(**{\"delta\": convert_to_openai_messages(msg)}, id=msg.id)\n",
    "                    for msg in node_data.get(\"messages\", [])\n",
    "                )\n",
    "\n",
    "mlflow.langchain.autolog()\n",
    "AGENT = LangGraphChatAgent(toolcall_agent)\n",
    "mlflow.models.set_model(AGENT)"
   ]
  },
  {
   "cell_type": "markdown",
   "metadata": {
    "application/vnd.databricks.v1+cell": {
     "cellMetadata": {},
     "inputWidgets": {},
     "nuid": "66b864ec-dbbd-43de-804b-9a67e516f9ae",
     "showTitle": false,
     "tableResultSettingsMap": {},
     "title": ""
    }
   },
   "source": [
    "## エージェントのテスト"
   ]
  },
  {
   "cell_type": "code",
   "execution_count": 0,
   "metadata": {
    "application/vnd.databricks.v1+cell": {
     "cellMetadata": {
      "byteLimit": 2048000,
      "rowLimit": 10000
     },
     "inputWidgets": {},
     "nuid": "b6ec1c8a-102a-49eb-aea8-fbc2ea88a5d6",
     "showTitle": false,
     "tableResultSettingsMap": {},
     "title": ""
    }
   },
   "outputs": [],
   "source": [
    "dbutils.library.restartPython()"
   ]
  },
  {
   "cell_type": "code",
   "execution_count": 0,
   "metadata": {
    "application/vnd.databricks.v1+cell": {
     "cellMetadata": {
      "byteLimit": 2048000,
      "rowLimit": 10000
     },
     "inputWidgets": {},
     "nuid": "a48f6a29-7e5a-4f68-9fee-831b13dc170e",
     "showTitle": false,
     "tableResultSettingsMap": {},
     "title": ""
    }
   },
   "outputs": [],
   "source": [
    "from agent import AGENT\n",
    "\n",
    "toolcall_agent = AGENT.agent\n",
    "toolcall_agent"
   ]
  },
  {
   "cell_type": "code",
   "execution_count": 0,
   "metadata": {
    "application/vnd.databricks.v1+cell": {
     "cellMetadata": {
      "byteLimit": 2048000,
      "rowLimit": 10000
     },
     "inputWidgets": {},
     "nuid": "ac4e8901-07b1-4df9-ad35-6a484033ac08",
     "showTitle": false,
     "tableResultSettingsMap": {},
     "title": ""
    }
   },
   "outputs": [],
   "source": [
    "from agent import AGENT\n",
    "\n",
    "response = AGENT.predict({\"messages\": [{\"role\": \"user\", \"content\": \"売上トップ3のフランチャイズ店舗はどこですか？\"}]})\n",
    "\n",
    "print(response.messages[-1].content)"
   ]
  },
  {
   "cell_type": "code",
   "execution_count": 0,
   "metadata": {
    "application/vnd.databricks.v1+cell": {
     "cellMetadata": {
      "byteLimit": 2048000,
      "rowLimit": 10000
     },
     "inputWidgets": {},
     "nuid": "fe874d43-dcd5-4d71-9c7b-1d5cc34f37e1",
     "showTitle": false,
     "tableResultSettingsMap": {},
     "title": ""
    }
   },
   "outputs": [],
   "source": [
    "response = AGENT.predict({\"messages\": [{\"role\": \"user\", \"content\": \"東京の2024年7月の平均気温は何度ですか？\"}]})\n",
    "\n",
    "print(response.messages[-1].content)"
   ]
  },
  {
   "cell_type": "markdown",
   "metadata": {
    "application/vnd.databricks.v1+cell": {
     "cellMetadata": {},
     "inputWidgets": {},
     "nuid": "57d7190e-a380-4c2c-9648-37920e40fb5a",
     "showTitle": false,
     "tableResultSettingsMap": {},
     "title": ""
    }
   },
   "source": [
    "## まとめ\n",
    "\n",
    "このノートブックでは、以下を実装しました：\n",
    "1. **Databricks SDK** を使用した Genie Conversation API の呼び出し関数作成\n",
    "2. **Unity Catalog Function** としての登録\n",
    "3. **UCFunctionToolkit** を使用したツールの作成\n",
    "4. **LangGraph** によるTool-Callエージェントシステムの構築\n",
    "5. **MLflow Models From Code** によるモデル管理\n",
    "\n",
    "### 嬉しさ\n",
    "- Genie 呼び出し関数を Unity Catalog に登録するので、他のエージェントシステム等と共有できる\n",
    "- Genie 呼び出しの出力形式を比較的自由に整形できる"
   ]
  }
 ],
 "metadata": {
  "application/vnd.databricks.v1+notebook": {
   "computePreferences": null,
   "dashboards": [],
   "environmentMetadata": {
    "base_environment": "",
    "environment_version": "3"
   },
   "inputWidgetPreferences": null,
   "language": "python",
   "notebookMetadata": {
    "mostRecentlyExecutedCommandWithImplicitDF": {
     "commandId": 7692934046158060,
     "dataframes": [
      "_sqldf"
     ]
    },
    "pythonIndentUnit": 4
   },
   "notebookName": "01_Agent_with_custom_tool",
   "widgets": {}
  },
  "language_info": {
   "name": "python"
  }
 },
 "nbformat": 4,
 "nbformat_minor": 0
}
